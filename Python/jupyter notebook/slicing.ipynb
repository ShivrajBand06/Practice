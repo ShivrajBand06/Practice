{
 "cells": [
  {
   "cell_type": "code",
   "execution_count": 1,
   "id": "recorded-waterproof",
   "metadata": {},
   "outputs": [],
   "source": [
    "import numpy as np"
   ]
  },
  {
   "cell_type": "code",
   "execution_count": 5,
   "id": "unlike-universe",
   "metadata": {},
   "outputs": [],
   "source": [
    "array2 = np.array([5, 4, 64, 16, 11, 12, 46])"
   ]
  },
  {
   "cell_type": "code",
   "execution_count": 8,
   "id": "czech-belfast",
   "metadata": {},
   "outputs": [],
   "source": [
    "arr = array2[4:7]"
   ]
  },
  {
   "cell_type": "code",
   "execution_count": 9,
   "id": "occasional-burning",
   "metadata": {},
   "outputs": [
    {
     "data": {
      "text/plain": [
       "array([11, 12, 46])"
      ]
     },
     "execution_count": 9,
     "metadata": {},
     "output_type": "execute_result"
    }
   ],
   "source": [
    "arr"
   ]
  },
  {
   "cell_type": "code",
   "execution_count": 10,
   "id": "refined-webcam",
   "metadata": {},
   "outputs": [],
   "source": [
    "arr[0]=56"
   ]
  },
  {
   "cell_type": "code",
   "execution_count": 11,
   "id": "historical-perth",
   "metadata": {},
   "outputs": [
    {
     "data": {
      "text/plain": [
       "array([ 5,  4, 64, 16, 56, 12, 46])"
      ]
     },
     "execution_count": 11,
     "metadata": {},
     "output_type": "execute_result"
    }
   ],
   "source": [
    "array2 "
   ]
  },
  {
   "cell_type": "code",
   "execution_count": null,
   "id": "regular-photography",
   "metadata": {},
   "outputs": [],
   "source": []
  },
  {
   "cell_type": "code",
   "execution_count": null,
   "id": "actual-marble",
   "metadata": {},
   "outputs": [],
   "source": []
  },
  {
   "cell_type": "code",
   "execution_count": null,
   "id": "classical-module",
   "metadata": {},
   "outputs": [],
   "source": [
    "arr"
   ]
  }
 ],
 "metadata": {
  "kernelspec": {
   "display_name": "Python 3",
   "language": "python",
   "name": "python3"
  },
  "language_info": {
   "codemirror_mode": {
    "name": "ipython",
    "version": 3
   },
   "file_extension": ".py",
   "mimetype": "text/x-python",
   "name": "python",
   "nbconvert_exporter": "python",
   "pygments_lexer": "ipython3",
   "version": "3.9.2"
  }
 },
 "nbformat": 4,
 "nbformat_minor": 5
}
