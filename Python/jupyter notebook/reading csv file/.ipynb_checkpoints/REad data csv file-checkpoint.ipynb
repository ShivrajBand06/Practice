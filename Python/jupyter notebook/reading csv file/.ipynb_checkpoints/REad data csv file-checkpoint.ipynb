{
 "cells": [
  {
   "cell_type": "code",
   "execution_count": 1,
   "id": "professional-postcard",
   "metadata": {},
   "outputs": [],
   "source": [
    "import pandas as pd"
   ]
  },
  {
   "cell_type": "code",
   "execution_count": 2,
   "id": "affected-relay",
   "metadata": {},
   "outputs": [],
   "source": [
    "df = pd.read_csv('data.csv')"
   ]
  },
  {
   "cell_type": "code",
   "execution_count": 5,
   "id": "opposite-heart",
   "metadata": {},
   "outputs": [
    {
     "data": {
      "text/html": [
       "<div>\n",
       "<style scoped>\n",
       "    .dataframe tbody tr th:only-of-type {\n",
       "        vertical-align: middle;\n",
       "    }\n",
       "\n",
       "    .dataframe tbody tr th {\n",
       "        vertical-align: top;\n",
       "    }\n",
       "\n",
       "    .dataframe thead th {\n",
       "        text-align: right;\n",
       "    }\n",
       "</style>\n",
       "<table border=\"1\" class=\"dataframe\">\n",
       "  <thead>\n",
       "    <tr style=\"text-align: right;\">\n",
       "      <th></th>\n",
       "      <th>SYMBOL</th>\n",
       "      <th>SERIES</th>\n",
       "      <th>DATE1</th>\n",
       "      <th>PREV_CLOSE</th>\n",
       "      <th>OPEN_PRICE</th>\n",
       "      <th>HIGH_PRICE</th>\n",
       "      <th>LOW_PRICE</th>\n",
       "      <th>LAST_PRICE</th>\n",
       "      <th>CLOSE_PRICE</th>\n",
       "      <th>AVG_PRICE</th>\n",
       "      <th>TTL_TRD_QNTY</th>\n",
       "      <th>TURNOVER_LACS</th>\n",
       "      <th>NO_OF_TRADES</th>\n",
       "      <th>DELIV_QTY</th>\n",
       "      <th>DELIV_PER</th>\n",
       "    </tr>\n",
       "  </thead>\n",
       "  <tbody>\n",
       "    <tr>\n",
       "      <th>0</th>\n",
       "      <td>20MICRONS</td>\n",
       "      <td>EQ</td>\n",
       "      <td>17-Mar-2021</td>\n",
       "      <td>38.40</td>\n",
       "      <td>39.20</td>\n",
       "      <td>39.20</td>\n",
       "      <td>37.55</td>\n",
       "      <td>37.95</td>\n",
       "      <td>37.90</td>\n",
       "      <td>38.48</td>\n",
       "      <td>80160</td>\n",
       "      <td>30.85</td>\n",
       "      <td>737</td>\n",
       "      <td>50456</td>\n",
       "      <td>62.94</td>\n",
       "    </tr>\n",
       "    <tr>\n",
       "      <th>1</th>\n",
       "      <td>21STCENMGM</td>\n",
       "      <td>EQ</td>\n",
       "      <td>17-Mar-2021</td>\n",
       "      <td>13.50</td>\n",
       "      <td>13.75</td>\n",
       "      <td>13.75</td>\n",
       "      <td>13.75</td>\n",
       "      <td>13.75</td>\n",
       "      <td>13.75</td>\n",
       "      <td>13.75</td>\n",
       "      <td>1338</td>\n",
       "      <td>0.18</td>\n",
       "      <td>8</td>\n",
       "      <td>1338</td>\n",
       "      <td>100</td>\n",
       "    </tr>\n",
       "    <tr>\n",
       "      <th>2</th>\n",
       "      <td>3IINFOTECH</td>\n",
       "      <td>EQ</td>\n",
       "      <td>17-Mar-2021</td>\n",
       "      <td>8.45</td>\n",
       "      <td>8.20</td>\n",
       "      <td>8.40</td>\n",
       "      <td>8.05</td>\n",
       "      <td>8.05</td>\n",
       "      <td>8.05</td>\n",
       "      <td>8.11</td>\n",
       "      <td>22283355</td>\n",
       "      <td>1807.20</td>\n",
       "      <td>22040</td>\n",
       "      <td>9138339</td>\n",
       "      <td>41.01</td>\n",
       "    </tr>\n",
       "    <tr>\n",
       "      <th>3</th>\n",
       "      <td>3MINDIA</td>\n",
       "      <td>EQ</td>\n",
       "      <td>17-Mar-2021</td>\n",
       "      <td>28029.30</td>\n",
       "      <td>28000.00</td>\n",
       "      <td>28263.15</td>\n",
       "      <td>27600.00</td>\n",
       "      <td>27900.10</td>\n",
       "      <td>27961.85</td>\n",
       "      <td>27935.45</td>\n",
       "      <td>4168</td>\n",
       "      <td>1164.35</td>\n",
       "      <td>2370</td>\n",
       "      <td>2485</td>\n",
       "      <td>59.62</td>\n",
       "    </tr>\n",
       "    <tr>\n",
       "      <th>4</th>\n",
       "      <td>3PLAND</td>\n",
       "      <td>EQ</td>\n",
       "      <td>17-Mar-2021</td>\n",
       "      <td>9.20</td>\n",
       "      <td>10.00</td>\n",
       "      <td>10.00</td>\n",
       "      <td>8.70</td>\n",
       "      <td>8.80</td>\n",
       "      <td>9.10</td>\n",
       "      <td>9.51</td>\n",
       "      <td>20058</td>\n",
       "      <td>1.91</td>\n",
       "      <td>109</td>\n",
       "      <td>12880</td>\n",
       "      <td>64.21</td>\n",
       "    </tr>\n",
       "  </tbody>\n",
       "</table>\n",
       "</div>"
      ],
      "text/plain": [
       "       SYMBOL SERIES         DATE1   PREV_CLOSE  OPEN_PRICE  HIGH_PRICE  \\\n",
       "0   20MICRONS     EQ   17-Mar-2021        38.40       39.20       39.20   \n",
       "1  21STCENMGM     EQ   17-Mar-2021        13.50       13.75       13.75   \n",
       "2  3IINFOTECH     EQ   17-Mar-2021         8.45        8.20        8.40   \n",
       "3     3MINDIA     EQ   17-Mar-2021     28029.30    28000.00    28263.15   \n",
       "4      3PLAND     EQ   17-Mar-2021         9.20       10.00       10.00   \n",
       "\n",
       "   LOW_PRICE  LAST_PRICE  CLOSE_PRICE  AVG_PRICE   TTL_TRD_QNTY  \\\n",
       "0      37.55       37.95        37.90      38.48          80160   \n",
       "1      13.75       13.75        13.75      13.75           1338   \n",
       "2       8.05        8.05         8.05       8.11       22283355   \n",
       "3   27600.00    27900.10     27961.85   27935.45           4168   \n",
       "4       8.70        8.80         9.10       9.51          20058   \n",
       "\n",
       "   TURNOVER_LACS  NO_OF_TRADES DELIV_QTY DELIV_PER  \n",
       "0          30.85           737     50456     62.94  \n",
       "1           0.18             8      1338       100  \n",
       "2        1807.20         22040   9138339     41.01  \n",
       "3        1164.35          2370      2485     59.62  \n",
       "4           1.91           109     12880     64.21  "
      ]
     },
     "execution_count": 5,
     "metadata": {},
     "output_type": "execute_result"
    }
   ],
   "source": [
    "df.head()"
   ]
  },
  {
   "cell_type": "code",
   "execution_count": 6,
   "id": "selected-thing",
   "metadata": {},
   "outputs": [
    {
     "data": {
      "text/plain": [
       "0        20MICRONS\n",
       "1       21STCENMGM\n",
       "2       3IINFOTECH\n",
       "3          3MINDIA\n",
       "4           3PLAND\n",
       "           ...    \n",
       "2015     ZODJRDMKJ\n",
       "2016          ZOTA\n",
       "2017         ZUARI\n",
       "2018     ZUARIGLOB\n",
       "2019     ZYDUSWELL\n",
       "Name: SYMBOL, Length: 2020, dtype: object"
      ]
     },
     "execution_count": 6,
     "metadata": {},
     "output_type": "execute_result"
    }
   ],
   "source": [
    "df['SYMBOL']"
   ]
  },
  {
   "cell_type": "code",
   "execution_count": 8,
   "id": "retained-florist",
   "metadata": {},
   "outputs": [
    {
     "name": "stdout",
     "output_type": "stream",
     "text": [
      "float64\n"
     ]
    }
   ],
   "source": [
    "print(df['LOW_PRICE'].dtype)"
   ]
  },
  {
   "cell_type": "code",
   "execution_count": null,
   "id": "independent-guidance",
   "metadata": {},
   "outputs": [],
   "source": []
  }
 ],
 "metadata": {
  "kernelspec": {
   "display_name": "Python 3",
   "language": "python",
   "name": "python3"
  },
  "language_info": {
   "codemirror_mode": {
    "name": "ipython",
    "version": 3
   },
   "file_extension": ".py",
   "mimetype": "text/x-python",
   "name": "python",
   "nbconvert_exporter": "python",
   "pygments_lexer": "ipython3",
   "version": "3.9.2"
  }
 },
 "nbformat": 4,
 "nbformat_minor": 5
}
