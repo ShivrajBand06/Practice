{
 "cells": [
  {
   "cell_type": "code",
   "execution_count": 1,
   "id": "middle-sunrise",
   "metadata": {},
   "outputs": [],
   "source": [
    "import numpy as np"
   ]
  },
  {
   "cell_type": "code",
   "execution_count": 19,
   "id": "eight-blocking",
   "metadata": {},
   "outputs": [],
   "source": [
    "a = np.array([56,44,89,26,54,77,158,77,45,23,52,5,95,4,4,6,5,88,45,69,6633,225,412,45,22,52,252,11])"
   ]
  },
  {
   "cell_type": "code",
   "execution_count": 20,
   "id": "cubic-anaheim",
   "metadata": {},
   "outputs": [
    {
     "data": {
      "text/plain": [
       "array([13, 14, 16, 11, 15, 27, 24,  9,  3,  1,  8, 23, 18, 25, 10,  4,  0,\n",
       "       19,  7,  5, 17,  2, 12,  6, 21, 26, 22, 20], dtype=int64)"
      ]
     },
     "execution_count": 20,
     "metadata": {},
     "output_type": "execute_result"
    }
   ],
   "source": [
    "np.argsort(a)"
   ]
  },
  {
   "cell_type": "code",
   "execution_count": 21,
   "id": "identical-earthquake",
   "metadata": {},
   "outputs": [
    {
     "data": {
      "text/plain": [
       "13"
      ]
     },
     "execution_count": 21,
     "metadata": {},
     "output_type": "execute_result"
    }
   ],
   "source": [
    "np.argmin(a)"
   ]
  },
  {
   "cell_type": "code",
   "execution_count": 22,
   "id": "adjusted-roman",
   "metadata": {},
   "outputs": [
    {
     "data": {
      "text/plain": [
       "20"
      ]
     },
     "execution_count": 22,
     "metadata": {},
     "output_type": "execute_result"
    }
   ],
   "source": [
    "np.argmax(a)"
   ]
  },
  {
   "cell_type": "code",
   "execution_count": 24,
   "id": "essential-denmark",
   "metadata": {},
   "outputs": [
    {
     "data": {
      "text/plain": [
       "28"
      ]
     },
     "execution_count": 24,
     "metadata": {},
     "output_type": "execute_result"
    }
   ],
   "source": [
    "len(a)"
   ]
  },
  {
   "cell_type": "code",
   "execution_count": 25,
   "id": "neutral-airline",
   "metadata": {},
   "outputs": [],
   "source": [
    "a= a.reshape(4,7)"
   ]
  },
  {
   "cell_type": "code",
   "execution_count": 26,
   "id": "durable-syndication",
   "metadata": {},
   "outputs": [
    {
     "data": {
      "text/plain": [
       "array([[  56,   44,   89,   26,   54,   77,  158],\n",
       "       [  77,   45,   23,   52,    5,   95,    4],\n",
       "       [   4,    6,    5,   88,   45,   69, 6633],\n",
       "       [ 225,  412,   45,   22,   52,  252,   11]])"
      ]
     },
     "execution_count": 26,
     "metadata": {},
     "output_type": "execute_result"
    }
   ],
   "source": [
    "a"
   ]
  },
  {
   "cell_type": "code",
   "execution_count": 27,
   "id": "reported-halifax",
   "metadata": {},
   "outputs": [
    {
     "data": {
      "text/plain": [
       "array([[3, 1, 4, 0, 5, 2, 6],\n",
       "       [6, 4, 2, 1, 3, 0, 5],\n",
       "       [0, 2, 1, 4, 5, 3, 6],\n",
       "       [6, 3, 2, 4, 0, 5, 1]], dtype=int64)"
      ]
     },
     "execution_count": 27,
     "metadata": {},
     "output_type": "execute_result"
    }
   ],
   "source": [
    "np.argsort(a)"
   ]
  },
  {
   "cell_type": "code",
   "execution_count": 28,
   "id": "sized-tuition",
   "metadata": {},
   "outputs": [
    {
     "data": {
      "text/plain": [
       "array([[2, 2, 2, 3, 1, 2, 1],\n",
       "       [0, 0, 1, 0, 2, 0, 3],\n",
       "       [1, 1, 3, 1, 3, 1, 0],\n",
       "       [3, 3, 0, 2, 0, 3, 2]], dtype=int64)"
      ]
     },
     "execution_count": 28,
     "metadata": {},
     "output_type": "execute_result"
    }
   ],
   "source": [
    "np.argsort(a,axis=0)"
   ]
  },
  {
   "cell_type": "code",
   "execution_count": null,
   "id": "tutorial-engine",
   "metadata": {},
   "outputs": [],
   "source": []
  }
 ],
 "metadata": {
  "kernelspec": {
   "display_name": "Python 3",
   "language": "python",
   "name": "python3"
  },
  "language_info": {
   "codemirror_mode": {
    "name": "ipython",
    "version": 3
   },
   "file_extension": ".py",
   "mimetype": "text/x-python",
   "name": "python",
   "nbconvert_exporter": "python",
   "pygments_lexer": "ipython3",
   "version": "3.9.2"
  }
 },
 "nbformat": 4,
 "nbformat_minor": 5
}
