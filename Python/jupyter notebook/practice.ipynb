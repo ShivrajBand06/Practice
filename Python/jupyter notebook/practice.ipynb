{
 "cells": [
  {
   "cell_type": "code",
   "execution_count": 1,
   "id": "pleasant-drain",
   "metadata": {},
   "outputs": [],
   "source": [
    "import numpy as np"
   ]
  },
  {
   "cell_type": "code",
   "execution_count": 4,
   "id": "stuffed-tooth",
   "metadata": {},
   "outputs": [],
   "source": [
    "x = np.arange(10,20)"
   ]
  },
  {
   "cell_type": "code",
   "execution_count": 11,
   "id": "metric-spencer",
   "metadata": {},
   "outputs": [],
   "source": [
    "y = np.array([2,1,4,5,8,12,18,25,48,96])"
   ]
  },
  {
   "cell_type": "code",
   "execution_count": 14,
   "id": "crude-logging",
   "metadata": {},
   "outputs": [],
   "source": [
    "r= np.corrcoef(x,y)"
   ]
  },
  {
   "cell_type": "code",
   "execution_count": 15,
   "id": "desirable-glucose",
   "metadata": {},
   "outputs": [
    {
     "data": {
      "text/plain": [
       "array([[1.        , 0.81799601],\n",
       "       [0.81799601, 1.        ]])"
      ]
     },
     "execution_count": 15,
     "metadata": {},
     "output_type": "execute_result"
    }
   ],
   "source": [
    "r"
   ]
  },
  {
   "cell_type": "code",
   "execution_count": 16,
   "id": "valuable-interval",
   "metadata": {},
   "outputs": [
    {
     "data": {
      "text/plain": [
       "0.8179960085310842"
      ]
     },
     "execution_count": 16,
     "metadata": {},
     "output_type": "execute_result"
    }
   ],
   "source": [
    "r[0,1]"
   ]
  },
  {
   "cell_type": "code",
   "execution_count": null,
   "id": "alien-burton",
   "metadata": {},
   "outputs": [],
   "source": []
  }
 ],
 "metadata": {
  "kernelspec": {
   "display_name": "Python 3",
   "language": "python",
   "name": "python3"
  },
  "language_info": {
   "codemirror_mode": {
    "name": "ipython",
    "version": 3
   },
   "file_extension": ".py",
   "mimetype": "text/x-python",
   "name": "python",
   "nbconvert_exporter": "python",
   "pygments_lexer": "ipython3",
   "version": "3.9.2"
  }
 },
 "nbformat": 4,
 "nbformat_minor": 5
}
