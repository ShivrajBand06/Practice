{
 "cells": [
  {
   "cell_type": "code",
   "execution_count": 11,
   "id": "polyphonic-badge",
   "metadata": {},
   "outputs": [],
   "source": [
    "import numpy as np\n",
    "import scipy.stats"
   ]
  },
  {
   "cell_type": "code",
   "execution_count": 12,
   "id": "intense-semiconductor",
   "metadata": {},
   "outputs": [],
   "source": [
    "x = np.arange(10, 20)"
   ]
  },
  {
   "cell_type": "code",
   "execution_count": 13,
   "id": "found-pendant",
   "metadata": {},
   "outputs": [],
   "source": [
    "y = np.array([2,1,4,5,8,12,18,25,96,48])"
   ]
  },
  {
   "cell_type": "code",
   "execution_count": 14,
   "id": "disabled-mercury",
   "metadata": {},
   "outputs": [],
   "source": [
    "r = np.corrcoef(x,y)"
   ]
  },
  {
   "cell_type": "code",
   "execution_count": 15,
   "id": "known-onion",
   "metadata": {},
   "outputs": [
    {
     "data": {
      "text/plain": [
       "array([[1.        , 0.75864029],\n",
       "       [0.75864029, 1.        ]])"
      ]
     },
     "execution_count": 15,
     "metadata": {},
     "output_type": "execute_result"
    }
   ],
   "source": [
    "r"
   ]
  },
  {
   "cell_type": "code",
   "execution_count": 16,
   "id": "suspected-battlefield",
   "metadata": {
    "scrolled": true
   },
   "outputs": [
    {
     "data": {
      "text/plain": [
       "0.7586402890911867"
      ]
     },
     "execution_count": 16,
     "metadata": {},
     "output_type": "execute_result"
    }
   ],
   "source": [
    "r[0,1]"
   ]
  },
  {
   "cell_type": "code",
   "execution_count": 17,
   "id": "later-moisture",
   "metadata": {},
   "outputs": [
    {
     "data": {
      "text/plain": [
       "1.0"
      ]
     },
     "execution_count": 17,
     "metadata": {},
     "output_type": "execute_result"
    }
   ],
   "source": [
    "r[1,1]"
   ]
  },
  {
   "cell_type": "code",
   "execution_count": 18,
   "id": "greatest-article",
   "metadata": {},
   "outputs": [
    {
     "data": {
      "text/plain": [
       "0.7586402890911869"
      ]
     },
     "execution_count": 18,
     "metadata": {},
     "output_type": "execute_result"
    }
   ],
   "source": [
    "r[1,0]"
   ]
  },
  {
   "cell_type": "code",
   "execution_count": 19,
   "id": "exclusive-housing",
   "metadata": {},
   "outputs": [
    {
     "data": {
      "text/plain": [
       "1.0"
      ]
     },
     "execution_count": 19,
     "metadata": {},
     "output_type": "execute_result"
    }
   ],
   "source": [
    "r[1,1]"
   ]
  }
 ],
 "metadata": {
  "kernelspec": {
   "display_name": "Python 3",
   "language": "python",
   "name": "python3"
  },
  "language_info": {
   "codemirror_mode": {
    "name": "ipython",
    "version": 3
   },
   "file_extension": ".py",
   "mimetype": "text/x-python",
   "name": "python",
   "nbconvert_exporter": "python",
   "pygments_lexer": "ipython3",
   "version": "3.9.2"
  }
 },
 "nbformat": 4,
 "nbformat_minor": 5
}
