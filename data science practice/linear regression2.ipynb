{
 "cells": [
  {
   "cell_type": "code",
   "execution_count": 50,
   "id": "bridal-transcript",
   "metadata": {},
   "outputs": [],
   "source": [
    "import numpy as np\n",
    "import pandas as pd\n",
    "import matplotlib.pyplot as plt"
   ]
  },
  {
   "cell_type": "code",
   "execution_count": 51,
   "id": "structural-draft",
   "metadata": {},
   "outputs": [],
   "source": [
    "xy = np.array([[10,11,12,13,14,15,16,17,18,19],[2,1,4,5,8,12,18,25,96,48]])"
   ]
  },
  {
   "cell_type": "code",
   "execution_count": 52,
   "id": "electronic-attraction",
   "metadata": {},
   "outputs": [
    {
     "data": {
      "text/plain": [
       "array([[1.        , 0.75864029],\n",
       "       [0.75864029, 1.        ]])"
      ]
     },
     "execution_count": 52,
     "metadata": {},
     "output_type": "execute_result"
    }
   ],
   "source": [
    "np.corrcoef(xy)"
   ]
  },
  {
   "cell_type": "code",
   "execution_count": 53,
   "id": "attractive-acting",
   "metadata": {},
   "outputs": [],
   "source": [
    "xyz = np.array([[10,11,12,13,14,15,16,17,18,19],[2,1,4,5,8,12,18,25,96,48],[5,3,2,1,0,-2,-8,-11,-15,-16]])"
   ]
  },
  {
   "cell_type": "code",
   "execution_count": 54,
   "id": "cloudy-divorce",
   "metadata": {},
   "outputs": [
    {
     "data": {
      "text/plain": [
       "array([[ 1.        ,  0.75864029, -0.96807242],\n",
       "       [ 0.75864029,  1.        , -0.83407922],\n",
       "       [-0.96807242, -0.83407922,  1.        ]])"
      ]
     },
     "execution_count": 54,
     "metadata": {},
     "output_type": "execute_result"
    }
   ],
   "source": [
    "np.corrcoef(xyz)"
   ]
  },
  {
   "cell_type": "code",
   "execution_count": 55,
   "id": "better-relief",
   "metadata": {},
   "outputs": [],
   "source": [
    "a = pd.Series(range(10,20))"
   ]
  },
  {
   "cell_type": "code",
   "execution_count": 56,
   "id": "deadly-nickel",
   "metadata": {},
   "outputs": [],
   "source": [
    "b = pd.Series([2,1,4,5,8,12,18,25,96,48])"
   ]
  },
  {
   "cell_type": "code",
   "execution_count": 57,
   "id": "outstanding-sharing",
   "metadata": {},
   "outputs": [],
   "source": [
    "c = pd.Series([5,3,2,1,0,-2,-8,-11,-15,-16])"
   ]
  },
  {
   "cell_type": "code",
   "execution_count": 58,
   "id": "stopped-cream",
   "metadata": {},
   "outputs": [],
   "source": [
    "ab = pd.DataFrame({'a-values':a , 'b-values': b })"
   ]
  },
  {
   "cell_type": "code",
   "execution_count": 59,
   "id": "mysterious-peninsula",
   "metadata": {},
   "outputs": [
    {
     "data": {
      "text/html": [
       "<div>\n",
       "<style scoped>\n",
       "    .dataframe tbody tr th:only-of-type {\n",
       "        vertical-align: middle;\n",
       "    }\n",
       "\n",
       "    .dataframe tbody tr th {\n",
       "        vertical-align: top;\n",
       "    }\n",
       "\n",
       "    .dataframe thead th {\n",
       "        text-align: right;\n",
       "    }\n",
       "</style>\n",
       "<table border=\"1\" class=\"dataframe\">\n",
       "  <thead>\n",
       "    <tr style=\"text-align: right;\">\n",
       "      <th></th>\n",
       "      <th>a-values</th>\n",
       "      <th>b-values</th>\n",
       "    </tr>\n",
       "  </thead>\n",
       "  <tbody>\n",
       "    <tr>\n",
       "      <th>a-values</th>\n",
       "      <td>1.00000</td>\n",
       "      <td>0.75864</td>\n",
       "    </tr>\n",
       "    <tr>\n",
       "      <th>b-values</th>\n",
       "      <td>0.75864</td>\n",
       "      <td>1.00000</td>\n",
       "    </tr>\n",
       "  </tbody>\n",
       "</table>\n",
       "</div>"
      ],
      "text/plain": [
       "          a-values  b-values\n",
       "a-values   1.00000   0.75864\n",
       "b-values   0.75864   1.00000"
      ]
     },
     "execution_count": 59,
     "metadata": {},
     "output_type": "execute_result"
    }
   ],
   "source": [
    "ab.corr()"
   ]
  },
  {
   "cell_type": "code",
   "execution_count": 60,
   "id": "proprietary-apple",
   "metadata": {},
   "outputs": [],
   "source": [
    "abc = pd.DataFrame({'a-values':a , 'b-values': b, 'c-values': c })"
   ]
  },
  {
   "cell_type": "code",
   "execution_count": 61,
   "id": "forward-situation",
   "metadata": {},
   "outputs": [
    {
     "data": {
      "text/html": [
       "<div>\n",
       "<style scoped>\n",
       "    .dataframe tbody tr th:only-of-type {\n",
       "        vertical-align: middle;\n",
       "    }\n",
       "\n",
       "    .dataframe tbody tr th {\n",
       "        vertical-align: top;\n",
       "    }\n",
       "\n",
       "    .dataframe thead th {\n",
       "        text-align: right;\n",
       "    }\n",
       "</style>\n",
       "<table border=\"1\" class=\"dataframe\">\n",
       "  <thead>\n",
       "    <tr style=\"text-align: right;\">\n",
       "      <th></th>\n",
       "      <th>a-values</th>\n",
       "      <th>b-values</th>\n",
       "      <th>c-values</th>\n",
       "    </tr>\n",
       "  </thead>\n",
       "  <tbody>\n",
       "    <tr>\n",
       "      <th>a-values</th>\n",
       "      <td>1.000000</td>\n",
       "      <td>0.758640</td>\n",
       "      <td>-0.968072</td>\n",
       "    </tr>\n",
       "    <tr>\n",
       "      <th>b-values</th>\n",
       "      <td>0.758640</td>\n",
       "      <td>1.000000</td>\n",
       "      <td>-0.834079</td>\n",
       "    </tr>\n",
       "    <tr>\n",
       "      <th>c-values</th>\n",
       "      <td>-0.968072</td>\n",
       "      <td>-0.834079</td>\n",
       "      <td>1.000000</td>\n",
       "    </tr>\n",
       "  </tbody>\n",
       "</table>\n",
       "</div>"
      ],
      "text/plain": [
       "          a-values  b-values  c-values\n",
       "a-values  1.000000  0.758640 -0.968072\n",
       "b-values  0.758640  1.000000 -0.834079\n",
       "c-values -0.968072 -0.834079  1.000000"
      ]
     },
     "execution_count": 61,
     "metadata": {},
     "output_type": "execute_result"
    }
   ],
   "source": [
    "abc.corr()"
   ]
  },
  {
   "cell_type": "code",
   "execution_count": 62,
   "id": "wired-payment",
   "metadata": {},
   "outputs": [],
   "source": [
    "corr_matrix = ab.corr()"
   ]
  },
  {
   "cell_type": "code",
   "execution_count": 63,
   "id": "revised-calvin",
   "metadata": {},
   "outputs": [
    {
     "data": {
      "text/html": [
       "<div>\n",
       "<style scoped>\n",
       "    .dataframe tbody tr th:only-of-type {\n",
       "        vertical-align: middle;\n",
       "    }\n",
       "\n",
       "    .dataframe tbody tr th {\n",
       "        vertical-align: top;\n",
       "    }\n",
       "\n",
       "    .dataframe thead th {\n",
       "        text-align: right;\n",
       "    }\n",
       "</style>\n",
       "<table border=\"1\" class=\"dataframe\">\n",
       "  <thead>\n",
       "    <tr style=\"text-align: right;\">\n",
       "      <th></th>\n",
       "      <th>a-values</th>\n",
       "      <th>b-values</th>\n",
       "    </tr>\n",
       "  </thead>\n",
       "  <tbody>\n",
       "    <tr>\n",
       "      <th>a-values</th>\n",
       "      <td>1.00000</td>\n",
       "      <td>0.75864</td>\n",
       "    </tr>\n",
       "    <tr>\n",
       "      <th>b-values</th>\n",
       "      <td>0.75864</td>\n",
       "      <td>1.00000</td>\n",
       "    </tr>\n",
       "  </tbody>\n",
       "</table>\n",
       "</div>"
      ],
      "text/plain": [
       "          a-values  b-values\n",
       "a-values   1.00000   0.75864\n",
       "b-values   0.75864   1.00000"
      ]
     },
     "execution_count": 63,
     "metadata": {},
     "output_type": "execute_result"
    }
   ],
   "source": [
    "corr_matrix"
   ]
  },
  {
   "cell_type": "code",
   "execution_count": 64,
   "id": "stylish-paradise",
   "metadata": {},
   "outputs": [
    {
     "data": {
      "text/plain": [
       "0.7586402890911869"
      ]
     },
     "execution_count": 64,
     "metadata": {},
     "output_type": "execute_result"
    }
   ],
   "source": [
    "corr_matrix.at['a-values', 'b-values']"
   ]
  },
  {
   "cell_type": "code",
   "execution_count": 65,
   "id": "fewer-drill",
   "metadata": {},
   "outputs": [
    {
     "data": {
      "text/plain": [
       "0.7586402890911869"
      ]
     },
     "execution_count": 65,
     "metadata": {},
     "output_type": "execute_result"
    }
   ],
   "source": [
    "corr_matrix.iat[0,1]"
   ]
  },
  {
   "cell_type": "code",
   "execution_count": 66,
   "id": "loved-pharmacy",
   "metadata": {},
   "outputs": [
    {
     "data": {
      "text/plain": [
       "a-values   -0.968072\n",
       "b-values   -0.834079\n",
       "dtype: float64"
      ]
     },
     "execution_count": 66,
     "metadata": {},
     "output_type": "execute_result"
    }
   ],
   "source": [
    "ab.corrwith(c)"
   ]
  },
  {
   "cell_type": "code",
   "execution_count": null,
   "id": "consistent-contrast",
   "metadata": {},
   "outputs": [],
   "source": [
    "np.corrcoeff(ab)"
   ]
  },
  {
   "cell_type": "code",
   "execution_count": 67,
   "id": "fundamental-ancient",
   "metadata": {},
   "outputs": [
    {
     "data": {
      "text/plain": [
       "0.9757575757575757"
      ]
     },
     "execution_count": 67,
     "metadata": {},
     "output_type": "execute_result"
    }
   ],
   "source": [
    "a.corr(b, method='spearman')"
   ]
  },
  {
   "cell_type": "code",
   "execution_count": 68,
   "id": "sharing-receipt",
   "metadata": {},
   "outputs": [
    {
     "data": {
      "text/html": [
       "<div>\n",
       "<style scoped>\n",
       "    .dataframe tbody tr th:only-of-type {\n",
       "        vertical-align: middle;\n",
       "    }\n",
       "\n",
       "    .dataframe tbody tr th {\n",
       "        vertical-align: top;\n",
       "    }\n",
       "\n",
       "    .dataframe thead th {\n",
       "        text-align: right;\n",
       "    }\n",
       "</style>\n",
       "<table border=\"1\" class=\"dataframe\">\n",
       "  <thead>\n",
       "    <tr style=\"text-align: right;\">\n",
       "      <th></th>\n",
       "      <th>a-values</th>\n",
       "      <th>b-values</th>\n",
       "      <th>c-values</th>\n",
       "    </tr>\n",
       "  </thead>\n",
       "  <tbody>\n",
       "    <tr>\n",
       "      <th>a-values</th>\n",
       "      <td>1.000000</td>\n",
       "      <td>0.975758</td>\n",
       "      <td>-1.000000</td>\n",
       "    </tr>\n",
       "    <tr>\n",
       "      <th>b-values</th>\n",
       "      <td>0.975758</td>\n",
       "      <td>1.000000</td>\n",
       "      <td>-0.975758</td>\n",
       "    </tr>\n",
       "    <tr>\n",
       "      <th>c-values</th>\n",
       "      <td>-1.000000</td>\n",
       "      <td>-0.975758</td>\n",
       "      <td>1.000000</td>\n",
       "    </tr>\n",
       "  </tbody>\n",
       "</table>\n",
       "</div>"
      ],
      "text/plain": [
       "          a-values  b-values  c-values\n",
       "a-values  1.000000  0.975758 -1.000000\n",
       "b-values  0.975758  1.000000 -0.975758\n",
       "c-values -1.000000 -0.975758  1.000000"
      ]
     },
     "execution_count": 68,
     "metadata": {},
     "output_type": "execute_result"
    }
   ],
   "source": [
    "abc.corr(method='spearman')"
   ]
  },
  {
   "cell_type": "code",
   "execution_count": 69,
   "id": "cognitive-anthropology",
   "metadata": {},
   "outputs": [
    {
     "data": {
      "text/plain": [
       "a-values   -1.000000\n",
       "b-values   -0.975758\n",
       "dtype: float64"
      ]
     },
     "execution_count": 69,
     "metadata": {},
     "output_type": "execute_result"
    }
   ],
   "source": [
    "ab.corrwith(c, method= 'spearman')"
   ]
  },
  {
   "cell_type": "code",
   "execution_count": 70,
   "id": "liked-finger",
   "metadata": {},
   "outputs": [
    {
     "data": {
      "text/html": [
       "<div>\n",
       "<style scoped>\n",
       "    .dataframe tbody tr th:only-of-type {\n",
       "        vertical-align: middle;\n",
       "    }\n",
       "\n",
       "    .dataframe tbody tr th {\n",
       "        vertical-align: top;\n",
       "    }\n",
       "\n",
       "    .dataframe thead th {\n",
       "        text-align: right;\n",
       "    }\n",
       "</style>\n",
       "<table border=\"1\" class=\"dataframe\">\n",
       "  <thead>\n",
       "    <tr style=\"text-align: right;\">\n",
       "      <th></th>\n",
       "      <th>a-values</th>\n",
       "      <th>b-values</th>\n",
       "      <th>c-values</th>\n",
       "    </tr>\n",
       "  </thead>\n",
       "  <tbody>\n",
       "    <tr>\n",
       "      <th>a-values</th>\n",
       "      <td>1.000000</td>\n",
       "      <td>0.911111</td>\n",
       "      <td>-1.000000</td>\n",
       "    </tr>\n",
       "    <tr>\n",
       "      <th>b-values</th>\n",
       "      <td>0.911111</td>\n",
       "      <td>1.000000</td>\n",
       "      <td>-0.911111</td>\n",
       "    </tr>\n",
       "    <tr>\n",
       "      <th>c-values</th>\n",
       "      <td>-1.000000</td>\n",
       "      <td>-0.911111</td>\n",
       "      <td>1.000000</td>\n",
       "    </tr>\n",
       "  </tbody>\n",
       "</table>\n",
       "</div>"
      ],
      "text/plain": [
       "          a-values  b-values  c-values\n",
       "a-values  1.000000  0.911111 -1.000000\n",
       "b-values  0.911111  1.000000 -0.911111\n",
       "c-values -1.000000 -0.911111  1.000000"
      ]
     },
     "execution_count": 70,
     "metadata": {},
     "output_type": "execute_result"
    }
   ],
   "source": [
    "abc.corr(method='kendall')"
   ]
  },
  {
   "cell_type": "code",
   "execution_count": 72,
   "id": "negative-kansas",
   "metadata": {},
   "outputs": [
    {
     "data": {
      "image/png": "[encoded data removed]",
      "text/plain": [
       "<Figure size 432x288 with 1 Axes>"
      ]
     },
     "metadata": {
      "needs_background": "light"
     },
     "output_type": "display_data"
    }
   ],
   "source": [
    "fig ,ax =plt.subplots()"
   ]
  },
  {
   "cell_type": "code",
   "execution_count": 77,
   "id": "tender-trace",
   "metadata": {},
   "outputs": [
    {
     "ename": "NameError",
     "evalue": "name 'intercept' is not defined",
     "output_type": "error",
     "traceback": [
      "\u001b[1;31m---------------------------------------------------------------------------\u001b[0m",
      "\u001b[1;31mNameError\u001b[0m                                 Traceback (most recent call last)",
      "\u001b[1;32m<ipython-input-77-5d5bdf2d55cd>\u001b[0m in \u001b[0;36m<module>\u001b[1;34m\u001b[0m\n\u001b[0;32m      1\u001b[0m \u001b[0max\u001b[0m\u001b[1;33m.\u001b[0m\u001b[0mplot\u001b[0m\u001b[1;33m(\u001b[0m\u001b[0ma\u001b[0m\u001b[1;33m,\u001b[0m\u001b[0mb\u001b[0m\u001b[1;33m,\u001b[0m\u001b[0mlinewidth\u001b[0m \u001b[1;33m=\u001b[0m\u001b[1;36m0\u001b[0m\u001b[1;33m,\u001b[0m \u001b[0mmarker\u001b[0m \u001b[1;33m=\u001b[0m \u001b[1;34m's'\u001b[0m\u001b[1;33m,\u001b[0m \u001b[0mlabel\u001b[0m \u001b[1;33m=\u001b[0m \u001b[1;34m'Datapoints'\u001b[0m\u001b[1;33m)\u001b[0m\u001b[1;33m\u001b[0m\u001b[1;33m\u001b[0m\u001b[0m\n\u001b[1;32m----> 2\u001b[1;33m \u001b[0max\u001b[0m\u001b[1;33m.\u001b[0m\u001b[0mplot\u001b[0m\u001b[1;33m(\u001b[0m\u001b[0ma\u001b[0m\u001b[1;33m,\u001b[0m \u001b[0mintercept\u001b[0m \u001b[1;33m+\u001b[0m \u001b[0mslope\u001b[0m \u001b[1;33m*\u001b[0m \u001b[0ma\u001b[0m\u001b[1;33m,\u001b[0m \u001b[0mlabel\u001b[0m \u001b[1;33m=\u001b[0m \u001b[0mline\u001b[0m\u001b[1;33m)\u001b[0m\u001b[1;33m\u001b[0m\u001b[1;33m\u001b[0m\u001b[0m\n\u001b[0m\u001b[0;32m      3\u001b[0m \u001b[0max\u001b[0m\u001b[1;33m.\u001b[0m\u001b[0mset_xlabel\u001b[0m\u001b[1;33m(\u001b[0m\u001b[1;34m'a'\u001b[0m\u001b[1;33m)\u001b[0m\u001b[1;33m\u001b[0m\u001b[1;33m\u001b[0m\u001b[0m\n\u001b[0;32m      4\u001b[0m \u001b[0max\u001b[0m\u001b[1;33m.\u001b[0m\u001b[0mset_ylabel\u001b[0m\u001b[1;33m(\u001b[0m\u001b[1;34m'b'\u001b[0m\u001b[1;33m)\u001b[0m\u001b[1;33m\u001b[0m\u001b[1;33m\u001b[0m\u001b[0m\n\u001b[0;32m      5\u001b[0m \u001b[0max\u001b[0m\u001b[1;33m.\u001b[0m\u001b[0mlegend\u001b[0m\u001b[1;33m(\u001b[0m\u001b[0mfacecolor\u001b[0m \u001b[1;33m=\u001b[0m \u001b[1;34m'white'\u001b[0m\u001b[1;33m)\u001b[0m\u001b[1;33m\u001b[0m\u001b[1;33m\u001b[0m\u001b[0m\n",
      "\u001b[1;31mNameError\u001b[0m: name 'intercept' is not defined"
     ]
    }
   ],
   "source": [
    "ax.plot(a,b,linewidth =0, marker = 's', label = 'Datapoints')\n",
    "ax.plot(a, intercept + slope * a, label = line)\n",
    "ax.set_xlabel('a')\n",
    "ax.set_ylabel('b')\n",
    "ax.legend(facecolor = 'white')"
   ]
  },
  {
   "cell_type": "code",
   "execution_count": null,
   "id": "jewish-governor",
   "metadata": {},
   "outputs": [],
   "source": []
  }
 ],
 "metadata": {
  "kernelspec": {
   "display_name": "Python 3",
   "language": "python",
   "name": "python3"
  },
  "language_info": {
   "codemirror_mode": {
    "name": "ipython",
    "version": 3
   },
   "file_extension": ".py",
   "mimetype": "text/x-python",
   "name": "python",
   "nbconvert_exporter": "python",
   "pygments_lexer": "ipython3",
   "version": "3.9.2"
  }
 },
 "nbformat": 4,
 "nbformat_minor": 5
}
