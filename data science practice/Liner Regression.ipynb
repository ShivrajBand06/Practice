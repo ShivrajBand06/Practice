{
 "cells": [
  {
   "cell_type": "code",
   "execution_count": 25,
   "id": "bizarre-prototype",
   "metadata": {},
   "outputs": [],
   "source": [
    "import numpy as np\n",
    "import scipy.stats"
   ]
  },
  {
   "cell_type": "code",
   "execution_count": 26,
   "id": "resident-cricket",
   "metadata": {},
   "outputs": [],
   "source": [
    "x = np.arange(10,20)"
   ]
  },
  {
   "cell_type": "code",
   "execution_count": 27,
   "id": "coated-optics",
   "metadata": {},
   "outputs": [],
   "source": [
    "y = np.array([2,1,4,5,8,12,18,25,96,48])"
   ]
  },
  {
   "cell_type": "code",
   "execution_count": 28,
   "id": "dietary-software",
   "metadata": {},
   "outputs": [],
   "source": [
    "result = scipy.stats.linregress(x,y)"
   ]
  },
  {
   "cell_type": "code",
   "execution_count": 29,
   "id": "commercial-greene",
   "metadata": {},
   "outputs": [
    {
     "data": {
      "text/plain": [
       "7.4363636363636365"
      ]
     },
     "execution_count": 29,
     "metadata": {},
     "output_type": "execute_result"
    }
   ],
   "source": [
    "result.slope"
   ]
  },
  {
   "cell_type": "code",
   "execution_count": 30,
   "id": "informative-advantage",
   "metadata": {},
   "outputs": [
    {
     "data": {
      "text/plain": [
       "-85.92727272727274"
      ]
     },
     "execution_count": 30,
     "metadata": {},
     "output_type": "execute_result"
    }
   ],
   "source": [
    "result.intercept"
   ]
  },
  {
   "cell_type": "code",
   "execution_count": 31,
   "id": "nervous-fraud",
   "metadata": {},
   "outputs": [
    {
     "data": {
      "text/plain": [
       "0.7586402890911869"
      ]
     },
     "execution_count": 31,
     "metadata": {},
     "output_type": "execute_result"
    }
   ],
   "source": [
    "result.rvalue"
   ]
  },
  {
   "cell_type": "code",
   "execution_count": 32,
   "id": "needed-worst",
   "metadata": {},
   "outputs": [
    {
     "data": {
      "text/plain": [
       "0.010964341301680825"
      ]
     },
     "execution_count": 32,
     "metadata": {},
     "output_type": "execute_result"
    }
   ],
   "source": [
    "result.pvalue"
   ]
  },
  {
   "cell_type": "code",
   "execution_count": 33,
   "id": "numeric-result",
   "metadata": {},
   "outputs": [],
   "source": [
    "ab = np.array([[10,11,12,13,14,15,16,17,18,19],\n",
    "               [2, 1, 4, 5, 8, 12,18,25,96,48]])"
   ]
  },
  {
   "cell_type": "code",
   "execution_count": 34,
   "id": "adjustable-talent",
   "metadata": {},
   "outputs": [
    {
     "data": {
      "text/plain": [
       "LinregressResult(slope=7.4363636363636365, intercept=-85.92727272727274, rvalue=0.7586402890911869, pvalue=0.010964341301680825, stderr=2.257878767543913, intercept_stderr=33.37538930964323)"
      ]
     },
     "execution_count": 34,
     "metadata": {},
     "output_type": "execute_result"
    }
   ],
   "source": [
    "scipy.stats.linregress(ab)"
   ]
  },
  {
   "cell_type": "code",
   "execution_count": 35,
   "id": "developmental-rugby",
   "metadata": {},
   "outputs": [
    {
     "data": {
      "text/plain": [
       "array([[10,  2],\n",
       "       [11,  1],\n",
       "       [12,  4],\n",
       "       [13,  5],\n",
       "       [14,  8],\n",
       "       [15, 12],\n",
       "       [16, 18],\n",
       "       [17, 25],\n",
       "       [18, 96],\n",
       "       [19, 48]])"
      ]
     },
     "execution_count": 35,
     "metadata": {},
     "output_type": "execute_result"
    }
   ],
   "source": [
    "ab.T"
   ]
  },
  {
   "cell_type": "code",
   "execution_count": 36,
   "id": "ahead-sellers",
   "metadata": {},
   "outputs": [
    {
     "data": {
      "text/plain": [
       "LinregressResult(slope=7.4363636363636365, intercept=-85.92727272727274, rvalue=0.7586402890911869, pvalue=0.010964341301680825, stderr=2.257878767543913, intercept_stderr=33.37538930964323)"
      ]
     },
     "execution_count": 36,
     "metadata": {},
     "output_type": "execute_result"
    }
   ],
   "source": [
    "scipy.stats.linregress(ab.T)"
   ]
  },
  {
   "cell_type": "code",
   "execution_count": 37,
   "id": "shared-honor",
   "metadata": {},
   "outputs": [
    {
     "ename": "TypeError",
     "evalue": "'builtin_function_or_method' object is not subscriptable",
     "output_type": "error",
     "traceback": [
      "\u001b[1;31m---------------------------------------------------------------------------\u001b[0m",
      "\u001b[1;31mTypeError\u001b[0m                                 Traceback (most recent call last)",
      "\u001b[1;32m<ipython-input-37-04ab4f839a0e>\u001b[0m in \u001b[0;36m<module>\u001b[1;34m\u001b[0m\n\u001b[1;32m----> 1\u001b[1;33m \u001b[0mscipy\u001b[0m\u001b[1;33m.\u001b[0m\u001b[0mstats\u001b[0m\u001b[1;33m.\u001b[0m\u001b[0mlinregress\u001b[0m\u001b[1;33m(\u001b[0m\u001b[0mnp\u001b[0m\u001b[1;33m.\u001b[0m\u001b[0marange\u001b[0m\u001b[1;33m(\u001b[0m\u001b[1;36m3\u001b[0m\u001b[1;33m)\u001b[0m\u001b[1;33m,\u001b[0m \u001b[0mnp\u001b[0m\u001b[1;33m.\u001b[0m\u001b[0marray\u001b[0m\u001b[1;33m[\u001b[0m\u001b[1;36m2\u001b[0m  \u001b[1;33m,\u001b[0m \u001b[0mnp\u001b[0m\u001b[1;33m.\u001b[0m\u001b[0mnan\u001b[0m \u001b[1;33m,\u001b[0m \u001b[1;36m5\u001b[0m\u001b[1;33m]\u001b[0m\u001b[1;33m)\u001b[0m\u001b[1;33m\u001b[0m\u001b[1;33m\u001b[0m\u001b[0m\n\u001b[0m",
      "\u001b[1;31mTypeError\u001b[0m: 'builtin_function_or_method' object is not subscriptable"
     ]
    }
   ],
   "source": [
    "scipy.stats.linregress(np.arange(3), np.array[2  , np.nan , 5])"
   ]
  },
  {
   "cell_type": "code",
   "execution_count": null,
   "id": "structured-punishment",
   "metadata": {},
   "outputs": [],
   "source": []
  },
  {
   "cell_type": "code",
   "execution_count": null,
   "id": "agricultural-found",
   "metadata": {},
   "outputs": [],
   "source": []
  }
 ],
 "metadata": {
  "kernelspec": {
   "display_name": "Python 3",
   "language": "python",
   "name": "python3"
  },
  "language_info": {
   "codemirror_mode": {
    "name": "ipython",
    "version": 3
   },
   "file_extension": ".py",
   "mimetype": "text/x-python",
   "name": "python",
   "nbconvert_exporter": "python",
   "pygments_lexer": "ipython3",
   "version": "3.9.2"
  }
 },
 "nbformat": 4,
 "nbformat_minor": 5
}
